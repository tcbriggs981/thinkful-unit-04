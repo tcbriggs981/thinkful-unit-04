{
 "cells": [
  {
   "cell_type": "code",
   "execution_count": 1,
   "metadata": {},
   "outputs": [],
   "source": [
    "import numpy as np\n",
    "import pandas as pd\n",
    "import scipy\n",
    "import matplotlib.pyplot as plt\n",
    "import seaborn as sns\n",
    "%matplotlib inline\n",
    "\n",
    "sns.set_style(\"whitegrid\")\n",
    "colors = ['#651FFF', '#00B0FF', '#1DE9B6', '#00E676', '#FF9100', '#FF3D00']\n",
    "sns.set_palette(colors)\n",
    "plt.rcParams['figure.figsize'] = (8, 8)"
   ]
  },
  {
   "cell_type": "code",
   "execution_count": 2,
   "metadata": {},
   "outputs": [
    {
     "name": "stdout",
     "output_type": "stream",
     "text": [
      "<class 'pandas.core.frame.DataFrame'>\n",
      "RangeIndex: 31984 entries, 0 to 31983\n",
      "Data columns (total 21 columns):\n",
      "10k          31984 non-null object\n",
      "name         31984 non-null object\n",
      "division     31984 non-null int64\n",
      "25k          31984 non-null object\n",
      "gender       31984 non-null object\n",
      "age          31984 non-null int64\n",
      "official     31984 non-null float64\n",
      "bib          31984 non-null object\n",
      "genderdiv    31984 non-null int64\n",
      "ctz          1244 non-null object\n",
      "35k          31984 non-null object\n",
      "overall      31984 non-null int64\n",
      "pace         31984 non-null float64\n",
      "state        29408 non-null object\n",
      "30k          31984 non-null object\n",
      "5k           31984 non-null object\n",
      "half         31984 non-null object\n",
      "20k          31984 non-null object\n",
      "country      31984 non-null object\n",
      "city         31983 non-null object\n",
      "40k          31984 non-null object\n",
      "dtypes: float64(2), int64(4), object(15)\n",
      "memory usage: 5.1+ MB\n"
     ]
    }
   ],
   "source": [
    "results = pd.read_csv('2014_results.csv')\n",
    "\n",
    "results.info()"
   ]
  },
  {
   "cell_type": "code",
   "execution_count": 3,
   "metadata": {},
   "outputs": [],
   "source": [
    "results = results.drop(['ctz'], axis=1)"
   ]
  },
  {
   "cell_type": "code",
   "execution_count": 4,
   "metadata": {},
   "outputs": [],
   "source": [
    "results['state'] = results['state'].fillna(value='inter')"
   ]
  },
  {
   "cell_type": "code",
   "execution_count": 5,
   "metadata": {},
   "outputs": [
    {
     "data": {
      "text/html": [
       "<div>\n",
       "<style scoped>\n",
       "    .dataframe tbody tr th:only-of-type {\n",
       "        vertical-align: middle;\n",
       "    }\n",
       "\n",
       "    .dataframe tbody tr th {\n",
       "        vertical-align: top;\n",
       "    }\n",
       "\n",
       "    .dataframe thead th {\n",
       "        text-align: right;\n",
       "    }\n",
       "</style>\n",
       "<table border=\"1\" class=\"dataframe\">\n",
       "  <thead>\n",
       "    <tr style=\"text-align: right;\">\n",
       "      <th></th>\n",
       "      <th>10k</th>\n",
       "      <th>name</th>\n",
       "      <th>division</th>\n",
       "      <th>25k</th>\n",
       "      <th>gender</th>\n",
       "      <th>age</th>\n",
       "      <th>official</th>\n",
       "      <th>bib</th>\n",
       "      <th>genderdiv</th>\n",
       "      <th>35k</th>\n",
       "      <th>overall</th>\n",
       "      <th>pace</th>\n",
       "      <th>state</th>\n",
       "      <th>30k</th>\n",
       "      <th>5k</th>\n",
       "      <th>half</th>\n",
       "      <th>20k</th>\n",
       "      <th>country</th>\n",
       "      <th>city</th>\n",
       "      <th>40k</th>\n",
       "    </tr>\n",
       "  </thead>\n",
       "  <tbody>\n",
       "    <tr>\n",
       "      <th>0</th>\n",
       "      <td>17.37</td>\n",
       "      <td>Yamamoto, Hiroyuki</td>\n",
       "      <td>8</td>\n",
       "      <td>47.67</td>\n",
       "      <td>M</td>\n",
       "      <td>47</td>\n",
       "      <td>85.25</td>\n",
       "      <td>W1</td>\n",
       "      <td>8</td>\n",
       "      <td>71.40</td>\n",
       "      <td>8</td>\n",
       "      <td>3.27</td>\n",
       "      <td>inter</td>\n",
       "      <td>59.18</td>\n",
       "      <td>8.02</td>\n",
       "      <td>39.72</td>\n",
       "      <td>37.65</td>\n",
       "      <td>JPN</td>\n",
       "      <td>Fukuoka</td>\n",
       "      <td>80.43</td>\n",
       "    </tr>\n",
       "    <tr>\n",
       "      <th>1</th>\n",
       "      <td>32.58</td>\n",
       "      <td>Jeptoo, Rita</td>\n",
       "      <td>1</td>\n",
       "      <td>82.43</td>\n",
       "      <td>F</td>\n",
       "      <td>33</td>\n",
       "      <td>138.95</td>\n",
       "      <td>F1</td>\n",
       "      <td>1</td>\n",
       "      <td>116.37</td>\n",
       "      <td>21</td>\n",
       "      <td>5.30</td>\n",
       "      <td>inter</td>\n",
       "      <td>99.33</td>\n",
       "      <td>16.22</td>\n",
       "      <td>69.47</td>\n",
       "      <td>65.83</td>\n",
       "      <td>KEN</td>\n",
       "      <td>Eldoret</td>\n",
       "      <td>132.10</td>\n",
       "    </tr>\n",
       "    <tr>\n",
       "      <th>2</th>\n",
       "      <td>16.62</td>\n",
       "      <td>Van Dyk, Ernst F.</td>\n",
       "      <td>1</td>\n",
       "      <td>45.80</td>\n",
       "      <td>M</td>\n",
       "      <td>41</td>\n",
       "      <td>80.60</td>\n",
       "      <td>W2</td>\n",
       "      <td>1</td>\n",
       "      <td>67.42</td>\n",
       "      <td>1</td>\n",
       "      <td>3.08</td>\n",
       "      <td>inter</td>\n",
       "      <td>56.45</td>\n",
       "      <td>7.75</td>\n",
       "      <td>38.03</td>\n",
       "      <td>36.10</td>\n",
       "      <td>RSA</td>\n",
       "      <td>Paarl</td>\n",
       "      <td>76.10</td>\n",
       "    </tr>\n",
       "    <tr>\n",
       "      <th>3</th>\n",
       "      <td>32.57</td>\n",
       "      <td>Dibaba, Mare</td>\n",
       "      <td>3</td>\n",
       "      <td>82.43</td>\n",
       "      <td>F</td>\n",
       "      <td>24</td>\n",
       "      <td>140.58</td>\n",
       "      <td>F2</td>\n",
       "      <td>3</td>\n",
       "      <td>116.37</td>\n",
       "      <td>27</td>\n",
       "      <td>5.37</td>\n",
       "      <td>inter</td>\n",
       "      <td>99.33</td>\n",
       "      <td>16.20</td>\n",
       "      <td>69.47</td>\n",
       "      <td>65.83</td>\n",
       "      <td>ETH</td>\n",
       "      <td>Shoa</td>\n",
       "      <td>132.95</td>\n",
       "    </tr>\n",
       "    <tr>\n",
       "      <th>4</th>\n",
       "      <td>17.12</td>\n",
       "      <td>Hokinoue, Kota</td>\n",
       "      <td>2</td>\n",
       "      <td>46.37</td>\n",
       "      <td>M</td>\n",
       "      <td>40</td>\n",
       "      <td>81.23</td>\n",
       "      <td>W3</td>\n",
       "      <td>2</td>\n",
       "      <td>67.83</td>\n",
       "      <td>2</td>\n",
       "      <td>3.10</td>\n",
       "      <td>inter</td>\n",
       "      <td>57.03</td>\n",
       "      <td>8.02</td>\n",
       "      <td>38.60</td>\n",
       "      <td>36.58</td>\n",
       "      <td>JPN</td>\n",
       "      <td>Nogata Fukuoka</td>\n",
       "      <td>76.72</td>\n",
       "    </tr>\n",
       "  </tbody>\n",
       "</table>\n",
       "</div>"
      ],
      "text/plain": [
       "     10k                name  division    25k gender  age  official bib  \\\n",
       "0  17.37  Yamamoto, Hiroyuki         8  47.67      M   47     85.25  W1   \n",
       "1  32.58        Jeptoo, Rita         1  82.43      F   33    138.95  F1   \n",
       "2  16.62   Van Dyk, Ernst F.         1  45.80      M   41     80.60  W2   \n",
       "3  32.57        Dibaba, Mare         3  82.43      F   24    140.58  F2   \n",
       "4  17.12      Hokinoue, Kota         2  46.37      M   40     81.23  W3   \n",
       "\n",
       "   genderdiv     35k  overall  pace  state    30k     5k   half    20k  \\\n",
       "0          8   71.40        8  3.27  inter  59.18   8.02  39.72  37.65   \n",
       "1          1  116.37       21  5.30  inter  99.33  16.22  69.47  65.83   \n",
       "2          1   67.42        1  3.08  inter  56.45   7.75  38.03  36.10   \n",
       "3          3  116.37       27  5.37  inter  99.33  16.20  69.47  65.83   \n",
       "4          2   67.83        2  3.10  inter  57.03   8.02  38.60  36.58   \n",
       "\n",
       "  country            city     40k  \n",
       "0     JPN         Fukuoka   80.43  \n",
       "1     KEN         Eldoret  132.10  \n",
       "2     RSA           Paarl   76.10  \n",
       "3     ETH            Shoa  132.95  \n",
       "4     JPN  Nogata Fukuoka   76.72  "
      ]
     },
     "execution_count": 5,
     "metadata": {},
     "output_type": "execute_result"
    }
   ],
   "source": [
    "results.head()"
   ]
  },
  {
   "cell_type": "code",
   "execution_count": 6,
   "metadata": {},
   "outputs": [
    {
     "data": {
      "text/html": [
       "<div>\n",
       "<style scoped>\n",
       "    .dataframe tbody tr th:only-of-type {\n",
       "        vertical-align: middle;\n",
       "    }\n",
       "\n",
       "    .dataframe tbody tr th {\n",
       "        vertical-align: top;\n",
       "    }\n",
       "\n",
       "    .dataframe thead th {\n",
       "        text-align: right;\n",
       "    }\n",
       "</style>\n",
       "<table border=\"1\" class=\"dataframe\">\n",
       "  <thead>\n",
       "    <tr style=\"text-align: right;\">\n",
       "      <th></th>\n",
       "      <th>division</th>\n",
       "      <th>age</th>\n",
       "      <th>official</th>\n",
       "      <th>genderdiv</th>\n",
       "      <th>overall</th>\n",
       "      <th>pace</th>\n",
       "    </tr>\n",
       "  </thead>\n",
       "  <tbody>\n",
       "    <tr>\n",
       "      <th>count</th>\n",
       "      <td>48.000000</td>\n",
       "      <td>48.000000</td>\n",
       "      <td>48.000000</td>\n",
       "      <td>48.000000</td>\n",
       "      <td>48.000000</td>\n",
       "      <td>48.000000</td>\n",
       "    </tr>\n",
       "    <tr>\n",
       "      <th>mean</th>\n",
       "      <td>17.479167</td>\n",
       "      <td>33.229167</td>\n",
       "      <td>157.865208</td>\n",
       "      <td>35.437500</td>\n",
       "      <td>520.500000</td>\n",
       "      <td>6.029167</td>\n",
       "    </tr>\n",
       "    <tr>\n",
       "      <th>std</th>\n",
       "      <td>16.856074</td>\n",
       "      <td>7.449802</td>\n",
       "      <td>12.250009</td>\n",
       "      <td>46.519685</td>\n",
       "      <td>695.156618</td>\n",
       "      <td>0.467792</td>\n",
       "    </tr>\n",
       "    <tr>\n",
       "      <th>min</th>\n",
       "      <td>1.000000</td>\n",
       "      <td>23.000000</td>\n",
       "      <td>138.950000</td>\n",
       "      <td>1.000000</td>\n",
       "      <td>21.000000</td>\n",
       "      <td>5.300000</td>\n",
       "    </tr>\n",
       "    <tr>\n",
       "      <th>25%</th>\n",
       "      <td>4.750000</td>\n",
       "      <td>28.000000</td>\n",
       "      <td>149.777500</td>\n",
       "      <td>12.750000</td>\n",
       "      <td>94.250000</td>\n",
       "      <td>5.720000</td>\n",
       "    </tr>\n",
       "    <tr>\n",
       "      <th>50%</th>\n",
       "      <td>13.500000</td>\n",
       "      <td>31.500000</td>\n",
       "      <td>156.940000</td>\n",
       "      <td>24.500000</td>\n",
       "      <td>225.500000</td>\n",
       "      <td>5.990000</td>\n",
       "    </tr>\n",
       "    <tr>\n",
       "      <th>75%</th>\n",
       "      <td>25.250000</td>\n",
       "      <td>39.250000</td>\n",
       "      <td>167.822500</td>\n",
       "      <td>41.250000</td>\n",
       "      <td>765.000000</td>\n",
       "      <td>6.405000</td>\n",
       "    </tr>\n",
       "    <tr>\n",
       "      <th>max</th>\n",
       "      <td>88.000000</td>\n",
       "      <td>59.000000</td>\n",
       "      <td>188.570000</td>\n",
       "      <td>306.000000</td>\n",
       "      <td>3847.000000</td>\n",
       "      <td>7.200000</td>\n",
       "    </tr>\n",
       "  </tbody>\n",
       "</table>\n",
       "</div>"
      ],
      "text/plain": [
       "        division        age    official   genderdiv      overall       pace\n",
       "count  48.000000  48.000000   48.000000   48.000000    48.000000  48.000000\n",
       "mean   17.479167  33.229167  157.865208   35.437500   520.500000   6.029167\n",
       "std    16.856074   7.449802   12.250009   46.519685   695.156618   0.467792\n",
       "min     1.000000  23.000000  138.950000    1.000000    21.000000   5.300000\n",
       "25%     4.750000  28.000000  149.777500   12.750000    94.250000   5.720000\n",
       "50%    13.500000  31.500000  156.940000   24.500000   225.500000   5.990000\n",
       "75%    25.250000  39.250000  167.822500   41.250000   765.000000   6.405000\n",
       "max    88.000000  59.000000  188.570000  306.000000  3847.000000   7.200000"
      ]
     },
     "execution_count": 6,
     "metadata": {},
     "output_type": "execute_result"
    }
   ],
   "source": [
    "results.loc[results['bib'].str.contains('F')].describe()"
   ]
  },
  {
   "cell_type": "code",
   "execution_count": 7,
   "metadata": {},
   "outputs": [
    {
     "name": "stdout",
     "output_type": "stream",
     "text": [
      "<class 'pandas.core.frame.DataFrame'>\n",
      "RangeIndex: 31984 entries, 0 to 31983\n",
      "Data columns (total 20 columns):\n",
      "10k          31984 non-null object\n",
      "name         31984 non-null object\n",
      "division     31984 non-null int64\n",
      "25k          31984 non-null object\n",
      "gender       31984 non-null object\n",
      "age          31984 non-null int64\n",
      "official     31984 non-null float64\n",
      "bib          31984 non-null object\n",
      "genderdiv    31984 non-null int64\n",
      "35k          31984 non-null object\n",
      "overall      31984 non-null int64\n",
      "pace         31984 non-null float64\n",
      "state        31984 non-null object\n",
      "30k          31984 non-null object\n",
      "5k           31984 non-null object\n",
      "half         31984 non-null object\n",
      "20k          31984 non-null object\n",
      "country      31984 non-null object\n",
      "city         31983 non-null object\n",
      "40k          31984 non-null object\n",
      "dtypes: float64(2), int64(4), object(14)\n",
      "memory usage: 4.9+ MB\n"
     ]
    }
   ],
   "source": [
    "results.info()"
   ]
  },
  {
   "cell_type": "code",
   "execution_count": 8,
   "metadata": {},
   "outputs": [
    {
     "data": {
      "image/png": "[encoded data removed]",
      "text/plain": [
       "<Figure size 432x288 with 1 Axes>"
      ]
     },
     "metadata": {
      "needs_background": "light"
     },
     "output_type": "display_data"
    }
   ],
   "source": [
    "plt.hist(results['pace'], bins=50)\n",
    "plt.show()"
   ]
  },
  {
   "cell_type": "code",
   "execution_count": 9,
   "metadata": {},
   "outputs": [],
   "source": [
    "to_number = ['5k','10k','20k', '25k', 'half', '30k','35k', '40k']\n",
    "\n",
    "def to_numeric(columns):\n",
    "    for column in columns:\n",
    "        results[column] = pd.to_numeric(results[column], errors='coerce')\n",
    "        \n",
    "to_numeric(to_number)"
   ]
  },
  {
   "cell_type": "code",
   "execution_count": 10,
   "metadata": {},
   "outputs": [
    {
     "data": {
      "text/plain": [
       "10k          float64\n",
       "name          object\n",
       "division       int64\n",
       "25k          float64\n",
       "gender        object\n",
       "age            int64\n",
       "official     float64\n",
       "bib           object\n",
       "genderdiv      int64\n",
       "35k          float64\n",
       "overall        int64\n",
       "pace         float64\n",
       "state         object\n",
       "30k          float64\n",
       "5k           float64\n",
       "half         float64\n",
       "20k          float64\n",
       "country       object\n",
       "city          object\n",
       "40k          float64\n",
       "dtype: object"
      ]
     },
     "execution_count": 10,
     "metadata": {},
     "output_type": "execute_result"
    }
   ],
   "source": [
    "results.dtypes"
   ]
  },
  {
   "cell_type": "markdown",
   "metadata": {},
   "source": [
    "### Get the Countries\n",
    "Pulled countries, their regions and their respective codes from https://github.com/lukes/ISO-3166-Countries-with-Regional-Codes/blob/master/all/all.csv. Will merge this with the results table."
   ]
  },
  {
   "cell_type": "code",
   "execution_count": 11,
   "metadata": {},
   "outputs": [
    {
     "data": {
      "text/plain": [
       "USA    27233\n",
       "CAN     2175\n",
       "GBR      346\n",
       "ITA      212\n",
       "MEX      205\n",
       "GER      182\n",
       "JPN      175\n",
       "AUS      124\n",
       "IRL      119\n",
       "FRA      115\n",
       "ESP       89\n",
       "BRA       87\n",
       "SWE       66\n",
       "SUI       62\n",
       "KOR       60\n",
       "NED       54\n",
       "HKG       53\n",
       "DEN       50\n",
       "CHN       42\n",
       "COL       40\n",
       "CHI       29\n",
       "FIN       28\n",
       "ISL       28\n",
       "BEL       27\n",
       "SIN       23\n",
       "AUT       22\n",
       "NOR       21\n",
       "VEN       19\n",
       "RSA       19\n",
       "TPE       18\n",
       "       ...  \n",
       "PHI        4\n",
       "MAS        4\n",
       "TUR        4\n",
       "LUX        4\n",
       "UKR        3\n",
       "DOM        3\n",
       "HUN        3\n",
       "ECU        3\n",
       "PAN        3\n",
       "THA        2\n",
       "QAT        2\n",
       "EGY        2\n",
       "BAH        2\n",
       "ESA        2\n",
       "ROU        2\n",
       "BAR        1\n",
       "TRI        1\n",
       "ZIM        1\n",
       "CAY        1\n",
       "VGB        1\n",
       "EST        1\n",
       "BLR        1\n",
       "TAN        1\n",
       "URU        1\n",
       "MAR        1\n",
       "LIE        1\n",
       "BRN        1\n",
       "CRO        1\n",
       "BOL        1\n",
       "INA        1\n",
       "Name: country, Length: 78, dtype: int64"
      ]
     },
     "execution_count": 11,
     "metadata": {},
     "output_type": "execute_result"
    }
   ],
   "source": [
    "results.country.value_counts()"
   ]
  },
  {
   "cell_type": "code",
   "execution_count": 12,
   "metadata": {},
   "outputs": [
    {
     "data": {
      "text/html": [
       "<div>\n",
       "<style scoped>\n",
       "    .dataframe tbody tr th:only-of-type {\n",
       "        vertical-align: middle;\n",
       "    }\n",
       "\n",
       "    .dataframe tbody tr th {\n",
       "        vertical-align: top;\n",
       "    }\n",
       "\n",
       "    .dataframe thead th {\n",
       "        text-align: right;\n",
       "    }\n",
       "</style>\n",
       "<table border=\"1\" class=\"dataframe\">\n",
       "  <thead>\n",
       "    <tr style=\"text-align: right;\">\n",
       "      <th></th>\n",
       "      <th>name</th>\n",
       "      <th>alpha-2</th>\n",
       "      <th>alpha-3</th>\n",
       "      <th>country-code</th>\n",
       "      <th>iso_3166-2</th>\n",
       "      <th>region</th>\n",
       "      <th>sub-region</th>\n",
       "      <th>intermediate-region</th>\n",
       "      <th>region-code</th>\n",
       "      <th>sub-region-code</th>\n",
       "      <th>intermediate-region-code</th>\n",
       "    </tr>\n",
       "  </thead>\n",
       "  <tbody>\n",
       "    <tr>\n",
       "      <th>0</th>\n",
       "      <td>Afghanistan</td>\n",
       "      <td>AF</td>\n",
       "      <td>AFG</td>\n",
       "      <td>4</td>\n",
       "      <td>ISO 3166-2:AF</td>\n",
       "      <td>Asia</td>\n",
       "      <td>Southern Asia</td>\n",
       "      <td>NaN</td>\n",
       "      <td>142.0</td>\n",
       "      <td>34.0</td>\n",
       "      <td>NaN</td>\n",
       "    </tr>\n",
       "    <tr>\n",
       "      <th>1</th>\n",
       "      <td>Åland Islands</td>\n",
       "      <td>AX</td>\n",
       "      <td>ALA</td>\n",
       "      <td>248</td>\n",
       "      <td>ISO 3166-2:AX</td>\n",
       "      <td>Europe</td>\n",
       "      <td>Northern Europe</td>\n",
       "      <td>NaN</td>\n",
       "      <td>150.0</td>\n",
       "      <td>154.0</td>\n",
       "      <td>NaN</td>\n",
       "    </tr>\n",
       "    <tr>\n",
       "      <th>2</th>\n",
       "      <td>Albania</td>\n",
       "      <td>AL</td>\n",
       "      <td>ALB</td>\n",
       "      <td>8</td>\n",
       "      <td>ISO 3166-2:AL</td>\n",
       "      <td>Europe</td>\n",
       "      <td>Southern Europe</td>\n",
       "      <td>NaN</td>\n",
       "      <td>150.0</td>\n",
       "      <td>39.0</td>\n",
       "      <td>NaN</td>\n",
       "    </tr>\n",
       "    <tr>\n",
       "      <th>3</th>\n",
       "      <td>Algeria</td>\n",
       "      <td>DZ</td>\n",
       "      <td>DZA</td>\n",
       "      <td>12</td>\n",
       "      <td>ISO 3166-2:DZ</td>\n",
       "      <td>Africa</td>\n",
       "      <td>Northern Africa</td>\n",
       "      <td>NaN</td>\n",
       "      <td>2.0</td>\n",
       "      <td>15.0</td>\n",
       "      <td>NaN</td>\n",
       "    </tr>\n",
       "    <tr>\n",
       "      <th>4</th>\n",
       "      <td>American Samoa</td>\n",
       "      <td>AS</td>\n",
       "      <td>ASM</td>\n",
       "      <td>16</td>\n",
       "      <td>ISO 3166-2:AS</td>\n",
       "      <td>Oceania</td>\n",
       "      <td>Polynesia</td>\n",
       "      <td>NaN</td>\n",
       "      <td>9.0</td>\n",
       "      <td>61.0</td>\n",
       "      <td>NaN</td>\n",
       "    </tr>\n",
       "  </tbody>\n",
       "</table>\n",
       "</div>"
      ],
      "text/plain": [
       "             name alpha-2 alpha-3  country-code     iso_3166-2   region  \\\n",
       "0     Afghanistan      AF     AFG             4  ISO 3166-2:AF     Asia   \n",
       "1   Åland Islands      AX     ALA           248  ISO 3166-2:AX   Europe   \n",
       "2         Albania      AL     ALB             8  ISO 3166-2:AL   Europe   \n",
       "3         Algeria      DZ     DZA            12  ISO 3166-2:DZ   Africa   \n",
       "4  American Samoa      AS     ASM            16  ISO 3166-2:AS  Oceania   \n",
       "\n",
       "        sub-region intermediate-region  region-code  sub-region-code  \\\n",
       "0    Southern Asia                 NaN        142.0             34.0   \n",
       "1  Northern Europe                 NaN        150.0            154.0   \n",
       "2  Southern Europe                 NaN        150.0             39.0   \n",
       "3  Northern Africa                 NaN          2.0             15.0   \n",
       "4        Polynesia                 NaN          9.0             61.0   \n",
       "\n",
       "   intermediate-region-code  \n",
       "0                       NaN  \n",
       "1                       NaN  \n",
       "2                       NaN  \n",
       "3                       NaN  \n",
       "4                       NaN  "
      ]
     },
     "execution_count": 12,
     "metadata": {},
     "output_type": "execute_result"
    }
   ],
   "source": [
    "countries = pd.read_csv('countries.csv')\n",
    "\n",
    "merge = ['alpha-3', 'country-code', 'region', 'sub-region', 'region-code', 'sub-region-code'] \n",
    "\n",
    "countries.head()"
   ]
  },
  {
   "cell_type": "code",
   "execution_count": 13,
   "metadata": {},
   "outputs": [
    {
     "name": "stdout",
     "output_type": "stream",
     "text": [
      "<class 'pandas.core.frame.DataFrame'>\n",
      "RangeIndex: 249 entries, 0 to 248\n",
      "Data columns (total 11 columns):\n",
      "name                        249 non-null object\n",
      "alpha-2                     248 non-null object\n",
      "alpha-3                     249 non-null object\n",
      "country-code                249 non-null int64\n",
      "iso_3166-2                  249 non-null object\n",
      "region                      248 non-null object\n",
      "sub-region                  248 non-null object\n",
      "intermediate-region         107 non-null object\n",
      "region-code                 248 non-null float64\n",
      "sub-region-code             248 non-null float64\n",
      "intermediate-region-code    107 non-null float64\n",
      "dtypes: float64(3), int64(1), object(7)\n",
      "memory usage: 21.5+ KB\n"
     ]
    }
   ],
   "source": [
    "countries.info()"
   ]
  },
  {
   "cell_type": "code",
   "execution_count": 14,
   "metadata": {
    "scrolled": true
   },
   "outputs": [
    {
     "data": {
      "text/html": [
       "<div>\n",
       "<style scoped>\n",
       "    .dataframe tbody tr th:only-of-type {\n",
       "        vertical-align: middle;\n",
       "    }\n",
       "\n",
       "    .dataframe tbody tr th {\n",
       "        vertical-align: top;\n",
       "    }\n",
       "\n",
       "    .dataframe thead th {\n",
       "        text-align: right;\n",
       "    }\n",
       "</style>\n",
       "<table border=\"1\" class=\"dataframe\">\n",
       "  <thead>\n",
       "    <tr style=\"text-align: right;\">\n",
       "      <th></th>\n",
       "      <th>10k</th>\n",
       "      <th>name</th>\n",
       "      <th>division</th>\n",
       "      <th>25k</th>\n",
       "      <th>gender</th>\n",
       "      <th>age</th>\n",
       "      <th>official</th>\n",
       "      <th>bib</th>\n",
       "      <th>genderdiv</th>\n",
       "      <th>35k</th>\n",
       "      <th>...</th>\n",
       "      <th>half</th>\n",
       "      <th>20k</th>\n",
       "      <th>country</th>\n",
       "      <th>city</th>\n",
       "      <th>40k</th>\n",
       "      <th>country-code</th>\n",
       "      <th>region</th>\n",
       "      <th>sub-region</th>\n",
       "      <th>region-code</th>\n",
       "      <th>sub-region-code</th>\n",
       "    </tr>\n",
       "  </thead>\n",
       "  <tbody>\n",
       "    <tr>\n",
       "      <th>0</th>\n",
       "      <td>17.37</td>\n",
       "      <td>Yamamoto, Hiroyuki</td>\n",
       "      <td>8</td>\n",
       "      <td>47.67</td>\n",
       "      <td>M</td>\n",
       "      <td>47</td>\n",
       "      <td>85.25</td>\n",
       "      <td>W1</td>\n",
       "      <td>8</td>\n",
       "      <td>71.40</td>\n",
       "      <td>...</td>\n",
       "      <td>39.72</td>\n",
       "      <td>37.65</td>\n",
       "      <td>JPN</td>\n",
       "      <td>Fukuoka</td>\n",
       "      <td>80.43</td>\n",
       "      <td>392</td>\n",
       "      <td>Asia</td>\n",
       "      <td>Eastern Asia</td>\n",
       "      <td>142.0</td>\n",
       "      <td>30.0</td>\n",
       "    </tr>\n",
       "    <tr>\n",
       "      <th>1</th>\n",
       "      <td>17.12</td>\n",
       "      <td>Hokinoue, Kota</td>\n",
       "      <td>2</td>\n",
       "      <td>46.37</td>\n",
       "      <td>M</td>\n",
       "      <td>40</td>\n",
       "      <td>81.23</td>\n",
       "      <td>W3</td>\n",
       "      <td>2</td>\n",
       "      <td>67.83</td>\n",
       "      <td>...</td>\n",
       "      <td>38.60</td>\n",
       "      <td>36.58</td>\n",
       "      <td>JPN</td>\n",
       "      <td>Nogata Fukuoka</td>\n",
       "      <td>76.72</td>\n",
       "      <td>392</td>\n",
       "      <td>Asia</td>\n",
       "      <td>Eastern Asia</td>\n",
       "      <td>142.0</td>\n",
       "      <td>30.0</td>\n",
       "    </tr>\n",
       "    <tr>\n",
       "      <th>2</th>\n",
       "      <td>17.12</td>\n",
       "      <td>Soejima, Masazumi</td>\n",
       "      <td>3</td>\n",
       "      <td>46.37</td>\n",
       "      <td>M</td>\n",
       "      <td>43</td>\n",
       "      <td>81.23</td>\n",
       "      <td>W6</td>\n",
       "      <td>3</td>\n",
       "      <td>67.83</td>\n",
       "      <td>...</td>\n",
       "      <td>38.60</td>\n",
       "      <td>36.60</td>\n",
       "      <td>JPN</td>\n",
       "      <td>Isahaya</td>\n",
       "      <td>76.70</td>\n",
       "      <td>392</td>\n",
       "      <td>Asia</td>\n",
       "      <td>Eastern Asia</td>\n",
       "      <td>142.0</td>\n",
       "      <td>30.0</td>\n",
       "    </tr>\n",
       "    <tr>\n",
       "      <th>3</th>\n",
       "      <td>35.20</td>\n",
       "      <td>Higuchi, Noriko</td>\n",
       "      <td>21</td>\n",
       "      <td>88.73</td>\n",
       "      <td>F</td>\n",
       "      <td>28</td>\n",
       "      <td>153.65</td>\n",
       "      <td>F22</td>\n",
       "      <td>21</td>\n",
       "      <td>126.48</td>\n",
       "      <td>...</td>\n",
       "      <td>74.73</td>\n",
       "      <td>70.80</td>\n",
       "      <td>JPN</td>\n",
       "      <td>Kyoto</td>\n",
       "      <td>145.47</td>\n",
       "      <td>392</td>\n",
       "      <td>Asia</td>\n",
       "      <td>Eastern Asia</td>\n",
       "      <td>142.0</td>\n",
       "      <td>30.0</td>\n",
       "    </tr>\n",
       "    <tr>\n",
       "      <th>4</th>\n",
       "      <td>30.83</td>\n",
       "      <td>Sakai, Koichi</td>\n",
       "      <td>14</td>\n",
       "      <td>78.02</td>\n",
       "      <td>M</td>\n",
       "      <td>28</td>\n",
       "      <td>134.93</td>\n",
       "      <td>26</td>\n",
       "      <td>14</td>\n",
       "      <td>111.12</td>\n",
       "      <td>...</td>\n",
       "      <td>65.70</td>\n",
       "      <td>62.30</td>\n",
       "      <td>JPN</td>\n",
       "      <td>Chiba</td>\n",
       "      <td>127.67</td>\n",
       "      <td>392</td>\n",
       "      <td>Asia</td>\n",
       "      <td>Eastern Asia</td>\n",
       "      <td>142.0</td>\n",
       "      <td>30.0</td>\n",
       "    </tr>\n",
       "  </tbody>\n",
       "</table>\n",
       "<p>5 rows × 25 columns</p>\n",
       "</div>"
      ],
      "text/plain": [
       "     10k                name  division    25k gender  age  official  bib  \\\n",
       "0  17.37  Yamamoto, Hiroyuki         8  47.67      M   47     85.25   W1   \n",
       "1  17.12      Hokinoue, Kota         2  46.37      M   40     81.23   W3   \n",
       "2  17.12   Soejima, Masazumi         3  46.37      M   43     81.23   W6   \n",
       "3  35.20     Higuchi, Noriko        21  88.73      F   28    153.65  F22   \n",
       "4  30.83       Sakai, Koichi        14  78.02      M   28    134.93   26   \n",
       "\n",
       "   genderdiv     35k  ...   half    20k country            city     40k  \\\n",
       "0          8   71.40  ...  39.72  37.65     JPN         Fukuoka   80.43   \n",
       "1          2   67.83  ...  38.60  36.58     JPN  Nogata Fukuoka   76.72   \n",
       "2          3   67.83  ...  38.60  36.60     JPN         Isahaya   76.70   \n",
       "3         21  126.48  ...  74.73  70.80     JPN           Kyoto  145.47   \n",
       "4         14  111.12  ...  65.70  62.30     JPN           Chiba  127.67   \n",
       "\n",
       "   country-code  region    sub-region region-code  sub-region-code  \n",
       "0           392    Asia  Eastern Asia       142.0             30.0  \n",
       "1           392    Asia  Eastern Asia       142.0             30.0  \n",
       "2           392    Asia  Eastern Asia       142.0             30.0  \n",
       "3           392    Asia  Eastern Asia       142.0             30.0  \n",
       "4           392    Asia  Eastern Asia       142.0             30.0  \n",
       "\n",
       "[5 rows x 25 columns]"
      ]
     },
     "execution_count": 14,
     "metadata": {},
     "output_type": "execute_result"
    }
   ],
   "source": [
    "country_m = countries[merge]\n",
    "country_m = country_m.rename({'alpha-3':'country'}, axis='columns')\n",
    "\n",
    "results = results.merge(country_m, on='country')\n",
    "\n",
    "results.head()"
   ]
  },
  {
   "cell_type": "code",
   "execution_count": 15,
   "metadata": {
    "scrolled": false
   },
   "outputs": [
    {
     "name": "stdout",
     "output_type": "stream",
     "text": [
      "<class 'pandas.core.frame.DataFrame'>\n",
      "Int64Index: 31435 entries, 0 to 31434\n",
      "Data columns (total 25 columns):\n",
      "10k                31386 non-null float64\n",
      "name               31435 non-null object\n",
      "division           31435 non-null int64\n",
      "25k                31221 non-null float64\n",
      "gender             31435 non-null object\n",
      "age                31435 non-null int64\n",
      "official           31435 non-null float64\n",
      "bib                31435 non-null object\n",
      "genderdiv          31435 non-null int64\n",
      "35k                31402 non-null float64\n",
      "overall            31435 non-null int64\n",
      "pace               31435 non-null float64\n",
      "state              31435 non-null object\n",
      "30k                31396 non-null float64\n",
      "5k                 31383 non-null float64\n",
      "half               31364 non-null float64\n",
      "20k                31384 non-null float64\n",
      "country            31435 non-null object\n",
      "city               31434 non-null object\n",
      "40k                31397 non-null float64\n",
      "country-code       31435 non-null int64\n",
      "region             31435 non-null object\n",
      "sub-region         31435 non-null object\n",
      "region-code        31435 non-null float64\n",
      "sub-region-code    31435 non-null float64\n",
      "dtypes: float64(12), int64(5), object(8)\n",
      "memory usage: 6.2+ MB\n"
     ]
    }
   ],
   "source": [
    "results.info()"
   ]
  },
  {
   "cell_type": "code",
   "execution_count": 16,
   "metadata": {},
   "outputs": [
    {
     "data": {
      "text/plain": [
       "Northern America                   29408\n",
       "Northern Europe                      609\n",
       "Latin America and the Caribbean      384\n",
       "Eastern Asia                         330\n",
       "Southern Europe                      301\n",
       "Western Europe                       169\n",
       "Australia and New Zealand            141\n",
       "Eastern Europe                        50\n",
       "Sub-Saharan Africa                    18\n",
       "Western Asia                          13\n",
       "Southern Asia                          6\n",
       "South-eastern Asia                     3\n",
       "Northern Africa                        3\n",
       "Name: sub-region, dtype: int64"
      ]
     },
     "execution_count": 16,
     "metadata": {},
     "output_type": "execute_result"
    }
   ],
   "source": [
    "results['sub-region'].value_counts()"
   ]
  },
  {
   "cell_type": "code",
   "execution_count": 17,
   "metadata": {},
   "outputs": [
    {
     "data": {
      "text/plain": [
       "Boston                   1034\n",
       "New York                  498\n",
       "Chicago                   313\n",
       "Cambridge                 311\n",
       "Toronto                   240\n",
       "Somerville                240\n",
       "Brookline                 222\n",
       "Washington                212\n",
       "Newton                    201\n",
       "San Francisco             192\n",
       "Austin                    192\n",
       "Portland                  191\n",
       "Arlington                 184\n",
       "San Diego                 182\n",
       "Brighton                  151\n",
       "Seattle                   149\n",
       "Charlestown               148\n",
       "Houston                   138\n",
       "London                    135\n",
       "Quincy                    134\n",
       "Medford                   132\n",
       "Brooklyn                  131\n",
       "South Boston              130\n",
       "Ottawa                    130\n",
       "Atlanta                   122\n",
       "Denver                    118\n",
       "Dorchester                117\n",
       "Calgary                   109\n",
       "Cincinnati                106\n",
       "Wellesley                 105\n",
       "                         ... \n",
       "Madero, Tamaulipas          1\n",
       "Sabattus                    1\n",
       "Tumwater                    1\n",
       "Westbank                    1\n",
       "Hitchin                     1\n",
       "Flourtown                   1\n",
       "South San Francisco         1\n",
       "Cottesloe, Wa               1\n",
       "Otis AFB                    1\n",
       "Harpursville                1\n",
       "West Valley                 1\n",
       "Dutch Flat                  1\n",
       "Burnt River                 1\n",
       "Concordia Sagittaria        1\n",
       "Ketch Harbour               1\n",
       "Beulah                      1\n",
       "Winterville                 1\n",
       "Sherborne Dorset            1\n",
       "Saukville                   1\n",
       "Shad Bay                    1\n",
       "Bresso (milano)             1\n",
       "Wolcott                     1\n",
       "Readville                   1\n",
       "Tilton                      1\n",
       "San Tome                    1\n",
       "Cloverdale                  1\n",
       "Toowong                     1\n",
       "Kangasala As                1\n",
       "Mezieres-Sur-Couesnon       1\n",
       "Wapakoneta                  1\n",
       "Name: city, Length: 5631, dtype: int64"
      ]
     },
     "execution_count": 17,
     "metadata": {},
     "output_type": "execute_result"
    }
   ],
   "source": [
    "results['city'].value_counts()"
   ]
  },
  {
   "cell_type": "markdown",
   "metadata": {},
   "source": [
    "___"
   ]
  },
  {
   "cell_type": "markdown",
   "metadata": {},
   "source": [
    "#### Gender to Codes"
   ]
  },
  {
   "cell_type": "code",
   "execution_count": 18,
   "metadata": {},
   "outputs": [
    {
     "data": {
      "text/plain": [
       "M    17191\n",
       "F    14244\n",
       "Name: gender, dtype: int64"
      ]
     },
     "execution_count": 18,
     "metadata": {},
     "output_type": "execute_result"
    }
   ],
   "source": [
    "results.gender.value_counts()"
   ]
  },
  {
   "cell_type": "code",
   "execution_count": 19,
   "metadata": {},
   "outputs": [],
   "source": [
    "results['gender'] = results['gender'].astype('category')\n",
    "\n",
    "results['gender_code'] = results['gender'].cat.codes"
   ]
  },
  {
   "cell_type": "code",
   "execution_count": null,
   "metadata": {},
   "outputs": [],
   "source": []
  },
  {
   "cell_type": "markdown",
   "metadata": {},
   "source": [
    "___"
   ]
  },
  {
   "cell_type": "code",
   "execution_count": 20,
   "metadata": {},
   "outputs": [
    {
     "data": {
      "text/html": [
       "<div>\n",
       "<style scoped>\n",
       "    .dataframe tbody tr th:only-of-type {\n",
       "        vertical-align: middle;\n",
       "    }\n",
       "\n",
       "    .dataframe tbody tr th {\n",
       "        vertical-align: top;\n",
       "    }\n",
       "\n",
       "    .dataframe thead th {\n",
       "        text-align: right;\n",
       "    }\n",
       "</style>\n",
       "<table border=\"1\" class=\"dataframe\">\n",
       "  <thead>\n",
       "    <tr style=\"text-align: right;\">\n",
       "      <th></th>\n",
       "      <th>10k</th>\n",
       "      <th>name</th>\n",
       "      <th>division</th>\n",
       "      <th>25k</th>\n",
       "      <th>gender</th>\n",
       "      <th>age</th>\n",
       "      <th>official</th>\n",
       "      <th>bib</th>\n",
       "      <th>genderdiv</th>\n",
       "      <th>35k</th>\n",
       "      <th>...</th>\n",
       "      <th>20k</th>\n",
       "      <th>country</th>\n",
       "      <th>city</th>\n",
       "      <th>40k</th>\n",
       "      <th>country-code</th>\n",
       "      <th>region</th>\n",
       "      <th>sub-region</th>\n",
       "      <th>region-code</th>\n",
       "      <th>sub-region-code</th>\n",
       "      <th>gender_code</th>\n",
       "    </tr>\n",
       "  </thead>\n",
       "  <tbody>\n",
       "    <tr>\n",
       "      <th>0</th>\n",
       "      <td>17.37</td>\n",
       "      <td>Yamamoto, Hiroyuki</td>\n",
       "      <td>8</td>\n",
       "      <td>47.67</td>\n",
       "      <td>M</td>\n",
       "      <td>47</td>\n",
       "      <td>85.25</td>\n",
       "      <td>W1</td>\n",
       "      <td>8</td>\n",
       "      <td>71.40</td>\n",
       "      <td>...</td>\n",
       "      <td>37.65</td>\n",
       "      <td>JPN</td>\n",
       "      <td>Fukuoka</td>\n",
       "      <td>80.43</td>\n",
       "      <td>392</td>\n",
       "      <td>Asia</td>\n",
       "      <td>Eastern Asia</td>\n",
       "      <td>142.0</td>\n",
       "      <td>30.0</td>\n",
       "      <td>1</td>\n",
       "    </tr>\n",
       "    <tr>\n",
       "      <th>1</th>\n",
       "      <td>17.12</td>\n",
       "      <td>Hokinoue, Kota</td>\n",
       "      <td>2</td>\n",
       "      <td>46.37</td>\n",
       "      <td>M</td>\n",
       "      <td>40</td>\n",
       "      <td>81.23</td>\n",
       "      <td>W3</td>\n",
       "      <td>2</td>\n",
       "      <td>67.83</td>\n",
       "      <td>...</td>\n",
       "      <td>36.58</td>\n",
       "      <td>JPN</td>\n",
       "      <td>Nogata Fukuoka</td>\n",
       "      <td>76.72</td>\n",
       "      <td>392</td>\n",
       "      <td>Asia</td>\n",
       "      <td>Eastern Asia</td>\n",
       "      <td>142.0</td>\n",
       "      <td>30.0</td>\n",
       "      <td>1</td>\n",
       "    </tr>\n",
       "    <tr>\n",
       "      <th>2</th>\n",
       "      <td>17.12</td>\n",
       "      <td>Soejima, Masazumi</td>\n",
       "      <td>3</td>\n",
       "      <td>46.37</td>\n",
       "      <td>M</td>\n",
       "      <td>43</td>\n",
       "      <td>81.23</td>\n",
       "      <td>W6</td>\n",
       "      <td>3</td>\n",
       "      <td>67.83</td>\n",
       "      <td>...</td>\n",
       "      <td>36.60</td>\n",
       "      <td>JPN</td>\n",
       "      <td>Isahaya</td>\n",
       "      <td>76.70</td>\n",
       "      <td>392</td>\n",
       "      <td>Asia</td>\n",
       "      <td>Eastern Asia</td>\n",
       "      <td>142.0</td>\n",
       "      <td>30.0</td>\n",
       "      <td>1</td>\n",
       "    </tr>\n",
       "    <tr>\n",
       "      <th>3</th>\n",
       "      <td>35.20</td>\n",
       "      <td>Higuchi, Noriko</td>\n",
       "      <td>21</td>\n",
       "      <td>88.73</td>\n",
       "      <td>F</td>\n",
       "      <td>28</td>\n",
       "      <td>153.65</td>\n",
       "      <td>F22</td>\n",
       "      <td>21</td>\n",
       "      <td>126.48</td>\n",
       "      <td>...</td>\n",
       "      <td>70.80</td>\n",
       "      <td>JPN</td>\n",
       "      <td>Kyoto</td>\n",
       "      <td>145.47</td>\n",
       "      <td>392</td>\n",
       "      <td>Asia</td>\n",
       "      <td>Eastern Asia</td>\n",
       "      <td>142.0</td>\n",
       "      <td>30.0</td>\n",
       "      <td>0</td>\n",
       "    </tr>\n",
       "    <tr>\n",
       "      <th>4</th>\n",
       "      <td>30.83</td>\n",
       "      <td>Sakai, Koichi</td>\n",
       "      <td>14</td>\n",
       "      <td>78.02</td>\n",
       "      <td>M</td>\n",
       "      <td>28</td>\n",
       "      <td>134.93</td>\n",
       "      <td>26</td>\n",
       "      <td>14</td>\n",
       "      <td>111.12</td>\n",
       "      <td>...</td>\n",
       "      <td>62.30</td>\n",
       "      <td>JPN</td>\n",
       "      <td>Chiba</td>\n",
       "      <td>127.67</td>\n",
       "      <td>392</td>\n",
       "      <td>Asia</td>\n",
       "      <td>Eastern Asia</td>\n",
       "      <td>142.0</td>\n",
       "      <td>30.0</td>\n",
       "      <td>1</td>\n",
       "    </tr>\n",
       "  </tbody>\n",
       "</table>\n",
       "<p>5 rows × 26 columns</p>\n",
       "</div>"
      ],
      "text/plain": [
       "     10k                name  division    25k gender  age  official  bib  \\\n",
       "0  17.37  Yamamoto, Hiroyuki         8  47.67      M   47     85.25   W1   \n",
       "1  17.12      Hokinoue, Kota         2  46.37      M   40     81.23   W3   \n",
       "2  17.12   Soejima, Masazumi         3  46.37      M   43     81.23   W6   \n",
       "3  35.20     Higuchi, Noriko        21  88.73      F   28    153.65  F22   \n",
       "4  30.83       Sakai, Koichi        14  78.02      M   28    134.93   26   \n",
       "\n",
       "   genderdiv     35k  ...    20k  country            city     40k  \\\n",
       "0          8   71.40  ...  37.65      JPN         Fukuoka   80.43   \n",
       "1          2   67.83  ...  36.58      JPN  Nogata Fukuoka   76.72   \n",
       "2          3   67.83  ...  36.60      JPN         Isahaya   76.70   \n",
       "3         21  126.48  ...  70.80      JPN           Kyoto  145.47   \n",
       "4         14  111.12  ...  62.30      JPN           Chiba  127.67   \n",
       "\n",
       "   country-code  region    sub-region region-code sub-region-code  gender_code  \n",
       "0           392    Asia  Eastern Asia       142.0            30.0            1  \n",
       "1           392    Asia  Eastern Asia       142.0            30.0            1  \n",
       "2           392    Asia  Eastern Asia       142.0            30.0            1  \n",
       "3           392    Asia  Eastern Asia       142.0            30.0            0  \n",
       "4           392    Asia  Eastern Asia       142.0            30.0            1  \n",
       "\n",
       "[5 rows x 26 columns]"
      ]
     },
     "execution_count": 20,
     "metadata": {},
     "output_type": "execute_result"
    }
   ],
   "source": [
    "results.head()"
   ]
  },
  {
   "cell_type": "code",
   "execution_count": 21,
   "metadata": {},
   "outputs": [
    {
     "data": {
      "image/png": "[encoded data removed]",
      "text/plain": [
       "<Figure size 432x288 with 1 Axes>"
      ]
     },
     "metadata": {
      "needs_background": "light"
     },
     "output_type": "display_data"
    }
   ],
   "source": [
    "plt.scatter(x = results['age'], y = results['official'], alpha=.25)\n",
    "plt.title('2014 Finish Time by Age') \n",
    "plt.xlabel('Age')\n",
    "plt.ylabel('Finish Time (in minutes)');"
   ]
  },
  {
   "cell_type": "code",
   "execution_count": 22,
   "metadata": {},
   "outputs": [
    {
     "data": {
      "image/png": "[encoded data removed]",
      "text/plain": [
       "<Figure size 432x288 with 1 Axes>"
      ]
     },
     "metadata": {
      "needs_background": "light"
     },
     "output_type": "display_data"
    }
   ],
   "source": [
    "results['official'].groupby(pd.cut(results['age'], range(10,90,10))).aggregate(np.average).plot(kind=\"bar\", title=\"Average time by age group\")\n",
    "plt.show()"
   ]
  },
  {
   "cell_type": "code",
   "execution_count": 23,
   "metadata": {},
   "outputs": [
    {
     "data": {
      "text/plain": [
       "81"
      ]
     },
     "execution_count": 23,
     "metadata": {},
     "output_type": "execute_result"
    }
   ],
   "source": [
    "results.age.max()"
   ]
  },
  {
   "cell_type": "code",
   "execution_count": 24,
   "metadata": {},
   "outputs": [],
   "source": [
    "results['age-bracket'] = pd.cut(results['age'], range(0,100,20))\n",
    "results['age-bracket'] = results['age-bracket'].astype('category')\n",
    "results['age-bracket_code'] = results['age-bracket'].cat.codes"
   ]
  },
  {
   "cell_type": "code",
   "execution_count": 25,
   "metadata": {},
   "outputs": [
    {
     "data": {
      "image/png": "[encoded data removed]",
      "text/plain": [
       "<Figure size 432x288 with 1 Axes>"
      ]
     },
     "metadata": {
      "needs_background": "light"
     },
     "output_type": "display_data"
    }
   ],
   "source": [
    "sns.violinplot(x='age-bracket', y='pace', data=results, linewidth=.5)\n",
    "plt.xlabel('Age Brackets')\n",
    "plt.ylabel('Official Time')\n",
    "plt.show()"
   ]
  },
  {
   "cell_type": "code",
   "execution_count": 26,
   "metadata": {},
   "outputs": [
    {
     "data": {
      "text/plain": [
       "(40, 60]    15657\n",
       "(20, 40]    13691\n",
       "(60, 80]     1896\n",
       "(0, 20]       185\n",
       "Name: age-bracket, dtype: int64"
      ]
     },
     "execution_count": 26,
     "metadata": {},
     "output_type": "execute_result"
    }
   ],
   "source": [
    "results['age-bracket'].value_counts()"
   ]
  },
  {
   "cell_type": "markdown",
   "metadata": {},
   "source": [
    "___"
   ]
  },
  {
   "cell_type": "code",
   "execution_count": 27,
   "metadata": {},
   "outputs": [
    {
     "data": {
      "text/html": [
       "<div>\n",
       "<style scoped>\n",
       "    .dataframe tbody tr th:only-of-type {\n",
       "        vertical-align: middle;\n",
       "    }\n",
       "\n",
       "    .dataframe tbody tr th {\n",
       "        vertical-align: top;\n",
       "    }\n",
       "\n",
       "    .dataframe thead th {\n",
       "        text-align: right;\n",
       "    }\n",
       "</style>\n",
       "<table border=\"1\" class=\"dataframe\">\n",
       "  <thead>\n",
       "    <tr style=\"text-align: right;\">\n",
       "      <th></th>\n",
       "      <th>10k</th>\n",
       "      <th>name</th>\n",
       "      <th>division</th>\n",
       "      <th>25k</th>\n",
       "      <th>gender</th>\n",
       "      <th>age</th>\n",
       "      <th>official</th>\n",
       "      <th>bib</th>\n",
       "      <th>genderdiv</th>\n",
       "      <th>35k</th>\n",
       "      <th>...</th>\n",
       "      <th>city</th>\n",
       "      <th>40k</th>\n",
       "      <th>country-code</th>\n",
       "      <th>region</th>\n",
       "      <th>sub-region</th>\n",
       "      <th>region-code</th>\n",
       "      <th>sub-region-code</th>\n",
       "      <th>gender_code</th>\n",
       "      <th>age-bracket</th>\n",
       "      <th>age-bracket_code</th>\n",
       "    </tr>\n",
       "  </thead>\n",
       "  <tbody>\n",
       "    <tr>\n",
       "      <th>0</th>\n",
       "      <td>17.37</td>\n",
       "      <td>Yamamoto, Hiroyuki</td>\n",
       "      <td>8</td>\n",
       "      <td>47.67</td>\n",
       "      <td>M</td>\n",
       "      <td>47</td>\n",
       "      <td>85.25</td>\n",
       "      <td>W1</td>\n",
       "      <td>8</td>\n",
       "      <td>71.40</td>\n",
       "      <td>...</td>\n",
       "      <td>Fukuoka</td>\n",
       "      <td>80.43</td>\n",
       "      <td>392</td>\n",
       "      <td>Asia</td>\n",
       "      <td>Eastern Asia</td>\n",
       "      <td>142.0</td>\n",
       "      <td>30.0</td>\n",
       "      <td>1</td>\n",
       "      <td>(40, 60]</td>\n",
       "      <td>2</td>\n",
       "    </tr>\n",
       "    <tr>\n",
       "      <th>1</th>\n",
       "      <td>17.12</td>\n",
       "      <td>Hokinoue, Kota</td>\n",
       "      <td>2</td>\n",
       "      <td>46.37</td>\n",
       "      <td>M</td>\n",
       "      <td>40</td>\n",
       "      <td>81.23</td>\n",
       "      <td>W3</td>\n",
       "      <td>2</td>\n",
       "      <td>67.83</td>\n",
       "      <td>...</td>\n",
       "      <td>Nogata Fukuoka</td>\n",
       "      <td>76.72</td>\n",
       "      <td>392</td>\n",
       "      <td>Asia</td>\n",
       "      <td>Eastern Asia</td>\n",
       "      <td>142.0</td>\n",
       "      <td>30.0</td>\n",
       "      <td>1</td>\n",
       "      <td>(20, 40]</td>\n",
       "      <td>1</td>\n",
       "    </tr>\n",
       "    <tr>\n",
       "      <th>2</th>\n",
       "      <td>17.12</td>\n",
       "      <td>Soejima, Masazumi</td>\n",
       "      <td>3</td>\n",
       "      <td>46.37</td>\n",
       "      <td>M</td>\n",
       "      <td>43</td>\n",
       "      <td>81.23</td>\n",
       "      <td>W6</td>\n",
       "      <td>3</td>\n",
       "      <td>67.83</td>\n",
       "      <td>...</td>\n",
       "      <td>Isahaya</td>\n",
       "      <td>76.70</td>\n",
       "      <td>392</td>\n",
       "      <td>Asia</td>\n",
       "      <td>Eastern Asia</td>\n",
       "      <td>142.0</td>\n",
       "      <td>30.0</td>\n",
       "      <td>1</td>\n",
       "      <td>(40, 60]</td>\n",
       "      <td>2</td>\n",
       "    </tr>\n",
       "    <tr>\n",
       "      <th>3</th>\n",
       "      <td>35.20</td>\n",
       "      <td>Higuchi, Noriko</td>\n",
       "      <td>21</td>\n",
       "      <td>88.73</td>\n",
       "      <td>F</td>\n",
       "      <td>28</td>\n",
       "      <td>153.65</td>\n",
       "      <td>F22</td>\n",
       "      <td>21</td>\n",
       "      <td>126.48</td>\n",
       "      <td>...</td>\n",
       "      <td>Kyoto</td>\n",
       "      <td>145.47</td>\n",
       "      <td>392</td>\n",
       "      <td>Asia</td>\n",
       "      <td>Eastern Asia</td>\n",
       "      <td>142.0</td>\n",
       "      <td>30.0</td>\n",
       "      <td>0</td>\n",
       "      <td>(20, 40]</td>\n",
       "      <td>1</td>\n",
       "    </tr>\n",
       "    <tr>\n",
       "      <th>4</th>\n",
       "      <td>30.83</td>\n",
       "      <td>Sakai, Koichi</td>\n",
       "      <td>14</td>\n",
       "      <td>78.02</td>\n",
       "      <td>M</td>\n",
       "      <td>28</td>\n",
       "      <td>134.93</td>\n",
       "      <td>26</td>\n",
       "      <td>14</td>\n",
       "      <td>111.12</td>\n",
       "      <td>...</td>\n",
       "      <td>Chiba</td>\n",
       "      <td>127.67</td>\n",
       "      <td>392</td>\n",
       "      <td>Asia</td>\n",
       "      <td>Eastern Asia</td>\n",
       "      <td>142.0</td>\n",
       "      <td>30.0</td>\n",
       "      <td>1</td>\n",
       "      <td>(20, 40]</td>\n",
       "      <td>1</td>\n",
       "    </tr>\n",
       "  </tbody>\n",
       "</table>\n",
       "<p>5 rows × 28 columns</p>\n",
       "</div>"
      ],
      "text/plain": [
       "     10k                name  division    25k gender  age  official  bib  \\\n",
       "0  17.37  Yamamoto, Hiroyuki         8  47.67      M   47     85.25   W1   \n",
       "1  17.12      Hokinoue, Kota         2  46.37      M   40     81.23   W3   \n",
       "2  17.12   Soejima, Masazumi         3  46.37      M   43     81.23   W6   \n",
       "3  35.20     Higuchi, Noriko        21  88.73      F   28    153.65  F22   \n",
       "4  30.83       Sakai, Koichi        14  78.02      M   28    134.93   26   \n",
       "\n",
       "   genderdiv     35k  ...            city     40k country-code  region  \\\n",
       "0          8   71.40  ...         Fukuoka   80.43          392    Asia   \n",
       "1          2   67.83  ...  Nogata Fukuoka   76.72          392    Asia   \n",
       "2          3   67.83  ...         Isahaya   76.70          392    Asia   \n",
       "3         21  126.48  ...           Kyoto  145.47          392    Asia   \n",
       "4         14  111.12  ...           Chiba  127.67          392    Asia   \n",
       "\n",
       "     sub-region  region-code  sub-region-code gender_code age-bracket  \\\n",
       "0  Eastern Asia        142.0             30.0           1    (40, 60]   \n",
       "1  Eastern Asia        142.0             30.0           1    (20, 40]   \n",
       "2  Eastern Asia        142.0             30.0           1    (40, 60]   \n",
       "3  Eastern Asia        142.0             30.0           0    (20, 40]   \n",
       "4  Eastern Asia        142.0             30.0           1    (20, 40]   \n",
       "\n",
       "   age-bracket_code  \n",
       "0                 2  \n",
       "1                 1  \n",
       "2                 2  \n",
       "3                 1  \n",
       "4                 1  \n",
       "\n",
       "[5 rows x 28 columns]"
      ]
     },
     "execution_count": 27,
     "metadata": {},
     "output_type": "execute_result"
    }
   ],
   "source": [
    "results.head()"
   ]
  },
  {
   "cell_type": "code",
   "execution_count": 28,
   "metadata": {},
   "outputs": [
    {
     "name": "stdout",
     "output_type": "stream",
     "text": [
      "<class 'pandas.core.frame.DataFrame'>\n",
      "Int64Index: 31435 entries, 0 to 31434\n",
      "Data columns (total 28 columns):\n",
      "10k                 31386 non-null float64\n",
      "name                31435 non-null object\n",
      "division            31435 non-null int64\n",
      "25k                 31221 non-null float64\n",
      "gender              31435 non-null category\n",
      "age                 31435 non-null int64\n",
      "official            31435 non-null float64\n",
      "bib                 31435 non-null object\n",
      "genderdiv           31435 non-null int64\n",
      "35k                 31402 non-null float64\n",
      "overall             31435 non-null int64\n",
      "pace                31435 non-null float64\n",
      "state               31435 non-null object\n",
      "30k                 31396 non-null float64\n",
      "5k                  31383 non-null float64\n",
      "half                31364 non-null float64\n",
      "20k                 31384 non-null float64\n",
      "country             31435 non-null object\n",
      "city                31434 non-null object\n",
      "40k                 31397 non-null float64\n",
      "country-code        31435 non-null int64\n",
      "region              31435 non-null object\n",
      "sub-region          31435 non-null object\n",
      "region-code         31435 non-null float64\n",
      "sub-region-code     31435 non-null float64\n",
      "gender_code         31435 non-null int8\n",
      "age-bracket         31429 non-null category\n",
      "age-bracket_code    31435 non-null int8\n",
      "dtypes: category(2), float64(12), int64(5), int8(2), object(7)\n",
      "memory usage: 7.4+ MB\n"
     ]
    }
   ],
   "source": [
    "results.info()"
   ]
  },
  {
   "cell_type": "code",
   "execution_count": 29,
   "metadata": {},
   "outputs": [
    {
     "data": {
      "text/plain": [
       "MA       7587\n",
       "CA       2326\n",
       "inter    2027\n",
       "NY       1553\n",
       "ON       1052\n",
       "PA       1001\n",
       "TX        992\n",
       "IL        916\n",
       "OH        760\n",
       "FL        750\n",
       "VA        713\n",
       "MI        695\n",
       "NC        618\n",
       "WA        596\n",
       "CO        578\n",
       "NJ        569\n",
       "MN        556\n",
       "MD        527\n",
       "NH        526\n",
       "CT        521\n",
       "GA        443\n",
       "WI        433\n",
       "UT        431\n",
       "QC        419\n",
       "OR        406\n",
       "AZ        318\n",
       "IN        291\n",
       "TN        261\n",
       "MO        256\n",
       "ME        250\n",
       "         ... \n",
       "ID        124\n",
       "NE        111\n",
       "NS        109\n",
       "AL        105\n",
       "OK         92\n",
       "NV         88\n",
       "LA         78\n",
       "NM         71\n",
       "MT         65\n",
       "DE         63\n",
       "WV         56\n",
       "NB         55\n",
       "AK         50\n",
       "HI         49\n",
       "AR         48\n",
       "MB         47\n",
       "MS         46\n",
       "SD         32\n",
       "SK         32\n",
       "ND         31\n",
       "PE         23\n",
       "WY         22\n",
       "NL         18\n",
       "PR         17\n",
       "AE          7\n",
       "YT          5\n",
       "NT          3\n",
       "GU          1\n",
       "AP          1\n",
       "AA          1\n",
       "Name: state, Length: 69, dtype: int64"
      ]
     },
     "execution_count": 29,
     "metadata": {},
     "output_type": "execute_result"
    }
   ],
   "source": [
    "results['state'].value_counts()"
   ]
  },
  {
   "cell_type": "code",
   "execution_count": 30,
   "metadata": {},
   "outputs": [
    {
     "data": {
      "image/png": "[encoded data removed]",
      "text/plain": [
       "<Figure size 432x288 with 1 Axes>"
      ]
     },
     "metadata": {
      "needs_background": "light"
     },
     "output_type": "display_data"
    }
   ],
   "source": [
    "plt.scatter(x = results['pace'], y = results['overall'], alpha=.25)\n",
    "plt.title('2014 Finish Pace by Place') \n",
    "plt.xlabel('Pace')\n",
    "plt.ylabel('Overall Finish Place');"
   ]
  },
  {
   "cell_type": "markdown",
   "metadata": {},
   "source": [
    "Those dots at the far left of the graph are the wheelchair finishers. Because their pace is off and generally unrealistic for a runner to achieve I'll go ahead and drop them."
   ]
  },
  {
   "cell_type": "code",
   "execution_count": 31,
   "metadata": {},
   "outputs": [],
   "source": [
    "results = results.drop(results[results['bib'].str.contains('W')].index)"
   ]
  },
  {
   "cell_type": "code",
   "execution_count": 32,
   "metadata": {},
   "outputs": [
    {
     "data": {
      "image/png": "[encoded data removed]",
      "text/plain": [
       "<Figure size 432x288 with 1 Axes>"
      ]
     },
     "metadata": {
      "needs_background": "light"
     },
     "output_type": "display_data"
    }
   ],
   "source": [
    "plt.hist(results.pace)\n",
    "plt.show()"
   ]
  },
  {
   "cell_type": "code",
   "execution_count": 33,
   "metadata": {},
   "outputs": [
    {
     "data": {
      "text/plain": [
       "count    31385.000000\n",
       "mean         9.287511\n",
       "std          1.984657\n",
       "min          4.920000\n",
       "25%          7.850000\n",
       "50%          8.870000\n",
       "75%         10.430000\n",
       "max         20.570000\n",
       "Name: pace, dtype: float64"
      ]
     },
     "execution_count": 33,
     "metadata": {},
     "output_type": "execute_result"
    }
   ],
   "source": [
    "results.pace.describe()"
   ]
  },
  {
   "cell_type": "code",
   "execution_count": 34,
   "metadata": {},
   "outputs": [
    {
     "data": {
      "text/plain": [
       "8.0     7623\n",
       "9.0     6390\n",
       "7.0     4445\n",
       "10.0    4325\n",
       "11.0    3095\n",
       "12.0    2002\n",
       "13.0    1367\n",
       "6.0      926\n",
       "14.0     666\n",
       "15.0     345\n",
       "16.0     133\n",
       "5.0       44\n",
       "17.0      19\n",
       "18.0       3\n",
       "21.0       1\n",
       "20.0       1\n",
       "Name: pace-bracket, dtype: int64"
      ]
     },
     "execution_count": 34,
     "metadata": {},
     "output_type": "execute_result"
    }
   ],
   "source": [
    "results['pace-bracket'] = results['pace'].round()\n",
    "\n",
    "results['pace-bracket'].value_counts()"
   ]
  },
  {
   "cell_type": "code",
   "execution_count": 35,
   "metadata": {},
   "outputs": [],
   "source": [
    "results = results.drop(results[results['pace-bracket']>=17].index)"
   ]
  },
  {
   "cell_type": "code",
   "execution_count": 36,
   "metadata": {},
   "outputs": [
    {
     "data": {
      "text/plain": [
       "8.0     7623\n",
       "9.0     6390\n",
       "7.0     4445\n",
       "10.0    4325\n",
       "11.0    3095\n",
       "12.0    2002\n",
       "13.0    1367\n",
       "6.0      926\n",
       "14.0     666\n",
       "15.0     345\n",
       "16.0     133\n",
       "5.0       44\n",
       "Name: pace-bracket, dtype: int64"
      ]
     },
     "execution_count": 36,
     "metadata": {},
     "output_type": "execute_result"
    }
   ],
   "source": [
    "results['pace-bracket'] = results['pace'].round()\n",
    "\n",
    "results['pace-bracket'].value_counts()"
   ]
  },
  {
   "cell_type": "code",
   "execution_count": 37,
   "metadata": {},
   "outputs": [
    {
     "data": {
      "text/plain": [
       "9.281403016485442"
      ]
     },
     "execution_count": 37,
     "metadata": {},
     "output_type": "execute_result"
    }
   ],
   "source": [
    "results.pace.mean()"
   ]
  },
  {
   "cell_type": "code",
   "execution_count": 38,
   "metadata": {},
   "outputs": [
    {
     "data": {
      "text/plain": [
       "1.9728739676411815"
      ]
     },
     "execution_count": 38,
     "metadata": {},
     "output_type": "execute_result"
    }
   ],
   "source": [
    "results.pace.std()"
   ]
  },
  {
   "cell_type": "code",
   "execution_count": 39,
   "metadata": {},
   "outputs": [
    {
     "data": {
      "image/png": "[encoded data removed]",
      "text/plain": [
       "<Figure size 432x288 with 1 Axes>"
      ]
     },
     "metadata": {
      "needs_background": "light"
     },
     "output_type": "display_data"
    }
   ],
   "source": [
    "plt.hist(results.pace)\n",
    "plt.show()"
   ]
  },
  {
   "cell_type": "markdown",
   "metadata": {},
   "source": [
    "----"
   ]
  },
  {
   "cell_type": "markdown",
   "metadata": {},
   "source": [
    "## Modeling"
   ]
  },
  {
   "cell_type": "code",
   "execution_count": 40,
   "metadata": {},
   "outputs": [
    {
     "name": "stdout",
     "output_type": "stream",
     "text": [
      "<class 'pandas.core.frame.DataFrame'>\n",
      "Int64Index: 31361 entries, 3 to 31434\n",
      "Data columns (total 20 columns):\n",
      "10k                 31312 non-null float64\n",
      "division            31361 non-null int64\n",
      "25k                 31158 non-null float64\n",
      "age                 31361 non-null int64\n",
      "official            31361 non-null float64\n",
      "genderdiv           31361 non-null int64\n",
      "35k                 31329 non-null float64\n",
      "overall             31361 non-null int64\n",
      "pace                31361 non-null float64\n",
      "30k                 31324 non-null float64\n",
      "5k                  31309 non-null float64\n",
      "half                31290 non-null float64\n",
      "20k                 31311 non-null float64\n",
      "40k                 31329 non-null float64\n",
      "country-code        31361 non-null int64\n",
      "region-code         31361 non-null float64\n",
      "sub-region-code     31361 non-null float64\n",
      "gender_code         31361 non-null int8\n",
      "age-bracket_code    31361 non-null int8\n",
      "pace-bracket        31361 non-null float64\n",
      "dtypes: float64(13), int64(5), int8(2)\n",
      "memory usage: 4.6 MB\n"
     ]
    }
   ],
   "source": [
    "results._get_numeric_data().info()"
   ]
  },
  {
   "cell_type": "code",
   "execution_count": 47,
   "metadata": {},
   "outputs": [],
   "source": [
    "from sklearn.preprocessing import normalize\n",
    "from sklearn.decomposition import PCA\n",
    "\n",
    "# Make sure the number of rows divides evenly into four samples.\n",
    "#rows = df.shape[0] - df.shape[0] % 4\n",
    "#resu = df.iloc[:rows, :]\n",
    "\n",
    "results = results.dropna()\n",
    "\n",
    "res_num = results._get_numeric_data()\n",
    "\n",
    "# Break into a set of features and a variable for the known outcome.\n",
    "X = res_num.drop('gender_code', axis=1)\n",
    "y = results['gender']\n",
    "\n",
    "# Normalize\n",
    "X_norm = normalize(X)\n",
    "\n",
    "# Two PCA Features\n",
    "X_pca = PCA(2).fit_transform(X_norm)\n",
    "\n",
    "# Data frame to store features and predicted cluster memberships.\n",
    "ypred = pd.DataFrame()\n",
    "\n",
    "from sklearn.model_selection import train_test_split\n",
    "\n",
    "#Divide into training and test sets.\n",
    "X_train, X_test, y_train, y_test = train_test_split(X_pca, y, test_size=0.5)"
   ]
  },
  {
   "cell_type": "code",
   "execution_count": 57,
   "metadata": {},
   "outputs": [
    {
     "ename": "AttributeError",
     "evalue": "'numpy.ndarray' object has no attribute 'head'",
     "output_type": "error",
     "traceback": [
      "\u001b[0;31m---------------------------------------------------------------------------\u001b[0m",
      "\u001b[0;31mAttributeError\u001b[0m                            Traceback (most recent call last)",
      "\u001b[0;32m<ipython-input-57-73020798007e>\u001b[0m in \u001b[0;36m<module>\u001b[0;34m\u001b[0m\n\u001b[0;32m----> 1\u001b[0;31m \u001b[0mX_train\u001b[0m\u001b[0;34m.\u001b[0m\u001b[0mhead\u001b[0m\u001b[0;34m(\u001b[0m\u001b[0;34m)\u001b[0m\u001b[0;34m\u001b[0m\u001b[0;34m\u001b[0m\u001b[0m\n\u001b[0m",
      "\u001b[0;31mAttributeError\u001b[0m: 'numpy.ndarray' object has no attribute 'head'"
     ]
    }
   ],
   "source": [
    "X_train.head()"
   ]
  },
  {
   "cell_type": "markdown",
   "metadata": {},
   "source": [
    "### K Means"
   ]
  },
  {
   "cell_type": "code",
   "execution_count": 48,
   "metadata": {},
   "outputs": [
    {
     "name": "stdout",
     "output_type": "stream",
     "text": [
      "\n",
      "Comparing k-means clusters against the training set data:\n",
      "col_0      0     1\n",
      "gender            \n",
      "F       7032    25\n",
      "M       5346  3115\n"
     ]
    }
   ],
   "source": [
    "from sklearn.cluster import KMeans\n",
    "\n",
    "# Calculate predicted values.\n",
    "km = KMeans(n_clusters=2).fit(X_train)\n",
    "y_train_pred = km.predict(X_test)\n",
    "\n",
    "# Check the solution against the data.\n",
    "print('\\nComparing k-means clusters against the training set data:')\n",
    "print(pd.crosstab(y_test, y_train_pred))"
   ]
  },
  {
   "cell_type": "code",
   "execution_count": 49,
   "metadata": {},
   "outputs": [
    {
     "data": {
      "image/png": "[encoded data removed]",
      "text/plain": [
       "<Figure size 432x288 with 1 Axes>"
      ]
     },
     "metadata": {
      "needs_background": "light"
     },
     "output_type": "display_data"
    }
   ],
   "source": [
    "# Plot the solution.\n",
    "plt.scatter(X_test[:, 0], X_test[:, 1], c=y_train_pred)\n",
    "plt.show()"
   ]
  },
  {
   "cell_type": "markdown",
   "metadata": {},
   "source": [
    "### Mini Batch K Means"
   ]
  },
  {
   "cell_type": "code",
   "execution_count": 80,
   "metadata": {},
   "outputs": [
    {
     "name": "stdout",
     "output_type": "stream",
     "text": [
      "\n",
      "Comparing k-means clusters against the training set data:\n",
      "col_0      0     1\n",
      "gender            \n",
      "F       7038    19\n",
      "M       4245  4216\n"
     ]
    }
   ],
   "source": [
    "from sklearn.cluster import MiniBatchKMeans\n",
    "\n",
    "# Each batch will be made up of 200 data points.\n",
    "mini = MiniBatchKMeans(\n",
    "    init='random',\n",
    "    n_clusters=2,\n",
    "    batch_size=600)\n",
    "mini.fit(X_train)\n",
    "y_test_pred = mini.predict(X_test)\n",
    "\n",
    "# Check the solution against the data.\n",
    "print('\\nComparing k-means clusters against the training set data:')\n",
    "print(pd.crosstab(y_test, y_test_pred))"
   ]
  },
  {
   "cell_type": "code",
   "execution_count": 76,
   "metadata": {},
   "outputs": [
    {
     "name": "stdout",
     "output_type": "stream",
     "text": [
      "Number of estimated clusters: 2\n",
      "0.6616660894314251\n",
      "Number of estimated clusters: 4\n",
      "0.4848134552286577\n",
      "Number of estimated clusters: 6\n",
      "0.5282843111198359\n",
      "Number of estimated clusters: 10\n",
      "0.47408436860713987\n",
      "Number of estimated clusters: 20\n",
      "0.3946541220916638\n",
      "Number of estimated clusters: 30\n",
      "0.39314875126421606\n"
     ]
    }
   ],
   "source": [
    "from sklearn import metrics\n",
    "n_clusters = (2,4,6,10,20,30)\n",
    "for n in n_clusters:\n",
    "    print(\"Number of estimated clusters: {}\".format(n))\n",
    "    model = MiniBatchKMeans(init='random', n_clusters=n, batch_size=600).fit(X_train)\n",
    "    labels = model.labels_\n",
    "    print(metrics.silhouette_score(X_train, labels, metric='euclidean'))"
   ]
  },
  {
   "cell_type": "code",
   "execution_count": 81,
   "metadata": {},
   "outputs": [
    {
     "name": "stdout",
     "output_type": "stream",
     "text": [
      "ARI for  Training set data: \n",
      "-0.0011445111412954345\n"
     ]
    }
   ],
   "source": [
    "print('ARI for  Training set data: ')\n",
    "print(metrics.adjusted_rand_score(y_train,  y_train_pred))"
   ]
  },
  {
   "cell_type": "code",
   "execution_count": 82,
   "metadata": {},
   "outputs": [
    {
     "data": {
      "image/png": "[encoded data removed]",
      "text/plain": [
       "<Figure size 432x288 with 1 Axes>"
      ]
     },
     "metadata": {
      "needs_background": "light"
     },
     "output_type": "display_data"
    }
   ],
   "source": [
    "# Plot the solution.\n",
    "plt.scatter(X_test[:, 0], X_test[:, 1], c=y_train_pred)\n",
    "plt.show()"
   ]
  },
  {
   "cell_type": "markdown",
   "metadata": {},
   "source": [
    "## Mean Shift"
   ]
  },
  {
   "cell_type": "code",
   "execution_count": 83,
   "metadata": {},
   "outputs": [
    {
     "name": "stdout",
     "output_type": "stream",
     "text": [
      "bandwidth: 0.12684755244157378\n",
      "Number of estimated clusters: 8\n",
      "0.4766311783267415\n"
     ]
    }
   ],
   "source": [
    "from sklearn.cluster import MeanShift, estimate_bandwidth\n",
    "\n",
    "bandwidth = estimate_bandwidth(X_train, quantile=0.2, n_samples=500)\n",
    "print(\"bandwidth: {}\".format(bandwidth))\n",
    "\n",
    "model = MeanShift(bandwidth=bandwidth, bin_seeding=True)\n",
    "model.fit(X_train)\n",
    "\n",
    "labels = model.labels_\n",
    "cluster_centers = model.cluster_centers_\n",
    "n_clusters_ = len(np.unique(labels))\n",
    "\n",
    "print(\"Number of estimated clusters: {}\".format(n_clusters_))\n",
    "print(metrics.silhouette_score(X_train, labels, metric='euclidean'))"
   ]
  },
  {
   "cell_type": "code",
   "execution_count": 84,
   "metadata": {},
   "outputs": [
    {
     "name": "stdout",
     "output_type": "stream",
     "text": [
      "Comparing the assigned categories to the ones in the data:\n",
      "col_0      0    1   2   3    4  5  6  7\n",
      "gender                                 \n",
      "F       6690    0   8   0  253  6  5  8\n",
      "M       7869  534  80  65    0  0  0  0\n"
     ]
    }
   ],
   "source": [
    "print('Comparing the assigned categories to the ones in the data:')\n",
    "print(pd.crosstab(y_train,labels))"
   ]
  },
  {
   "cell_type": "code",
   "execution_count": 85,
   "metadata": {},
   "outputs": [
    {
     "data": {
      "text/plain": [
       "-0.0037557882983336745"
      ]
     },
     "execution_count": 85,
     "metadata": {},
     "output_type": "execute_result"
    }
   ],
   "source": [
    "# Adjusted Rand Score\n",
    "metrics.adjusted_rand_score(y_train, labels)"
   ]
  },
  {
   "cell_type": "markdown",
   "metadata": {},
   "source": [
    "### Spectral Clustering"
   ]
  },
  {
   "cell_type": "code",
   "execution_count": null,
   "metadata": {},
   "outputs": [],
   "source": [
    "from sklearn.cluster import SpectralClustering\n",
    "\n",
    "# We know we're looking for two clusters.\n",
    "n_clusters=2\n",
    "\n",
    "start_time = time.clock()\n",
    "# Declare and fit the model.\n",
    "sc = SpectralClustering(n_clusters=n_clusters)\n",
    "sc.fit(X_train)\n",
    "\n",
    "#Predicted clusters.\n",
    "train_predict=sc.fit_predict(X_train)\n",
    "\n",
    "\n",
    "\n",
    "print('Runtime for Spectral Cluster: '+'%s seconds'% (time.clock() - start_time))\n",
    "\n",
    "print('\\nComparing the assigned categories to the ones in the Training set data:')\n",
    "print(pd.crosstab(y_train,train_predict))"
   ]
  },
  {
   "cell_type": "markdown",
   "metadata": {},
   "source": [
    "This was taking forever to run, so skipping for now."
   ]
  },
  {
   "cell_type": "markdown",
   "metadata": {},
   "source": [
    "### Affinnity Propagaton"
   ]
  },
  {
   "cell_type": "code",
   "execution_count": null,
   "metadata": {},
   "outputs": [],
   "source": [
    "from sklearn.cluster import AffinityPropagation\n",
    "from sklearn import metrics\n",
    "\n",
    "# Declare the model and fit it in one statement.\n",
    "# Note that you can provide arguments to the model, but we didn't.\n",
    "af = AffinityPropagation(damping=.75, affinity='euclidean').fit(X_train)\n",
    "print('Done')\n",
    "\n",
    "# Pull the number of clusters and cluster assignments for each data point.\n",
    "cluster_centers_indices = af.cluster_centers_indices_\n",
    "n_clusters_ = len(cluster_centers_indices)\n",
    "labels = af.labels_\n",
    "\n",
    "start_time = time.clock()\n",
    "#Predicted clusters.\n",
    "predict=af.fit_predict(X_train)\n",
    "\n",
    "print('Runtime for Affinity propagation: '+'%s seconds'% (time.clock() - start_time))\n",
    "\n",
    "print('Estimated number of clusters: {}'.format(n_clusters_))\n",
    "\n",
    "print('Comparing the assigned categories to the ones in the data:')\n",
    "print(pd.crosstab(y_train,predict))"
   ]
  },
  {
   "cell_type": "markdown",
   "metadata": {},
   "source": [
    "Very very random and doesn't tell us much at all"
   ]
  },
  {
   "cell_type": "code",
   "execution_count": 91,
   "metadata": {},
   "outputs": [
    {
     "name": "stdout",
     "output_type": "stream",
     "text": [
      "0.3818095410380991\n"
     ]
    }
   ],
   "source": [
    "from sklearn.metrics import pairwise_distances\n",
    "\n",
    "print(metrics.silhouette_score(X_train, labels, metric='euclidean'))"
   ]
  },
  {
   "cell_type": "code",
   "execution_count": 90,
   "metadata": {},
   "outputs": [
    {
     "name": "stdout",
     "output_type": "stream",
     "text": [
      "ARI for  Training set data: \n",
      "0.023421073207129443\n"
     ]
    }
   ],
   "source": [
    "print('ARI for  Training set data: ')\n",
    "print(metrics.adjusted_rand_score(y_train,  predict))"
   ]
  },
  {
   "cell_type": "code",
   "execution_count": null,
   "metadata": {},
   "outputs": [],
   "source": []
  }
 ],
 "metadata": {
  "kernelspec": {
   "display_name": "Python 3",
   "language": "python",
   "name": "python3"
  },
  "language_info": {
   "codemirror_mode": {
    "name": "ipython",
    "version": 3
   },
   "file_extension": ".py",
   "mimetype": "text/x-python",
   "name": "python",
   "nbconvert_exporter": "python",
   "pygments_lexer": "ipython3",
   "version": "3.7.2"
  }
 },
 "nbformat": 4,
 "nbformat_minor": 2
}
